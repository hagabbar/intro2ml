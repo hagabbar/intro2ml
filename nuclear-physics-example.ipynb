{
 "cells": [
  {
   "cell_type": "markdown",
   "metadata": {},
   "source": [
    "# Nuclear Physics example\n",
    "In this notebook I'll go through an example similar to methods I'm using as part of my summer project.\n",
    "\n",
    "**NOTE:** Data is NOT included for this example, contact me if you want to access it."
   ]
  },
  {
   "cell_type": "code",
   "execution_count": 1,
   "metadata": {},
   "outputs": [
    {
     "name": "stdout",
     "output_type": "stream",
     "text": [
      "Welcome to JupyROOT 6.12/06\n"
     ]
    },
    {
     "name": "stderr",
     "output_type": "stream",
     "text": [
      "Using TensorFlow backend.\n"
     ]
    }
   ],
   "source": [
    "from __future__ import print_function\n",
    "\n",
    "import numpy as np\n",
    "import pandas as pd\n",
    "from root_pandas import read_root\n",
    "import matplotlib.pyplot as plt\n",
    "\n",
    "import keras\n",
    "from keras.datasets import mnist\n",
    "from keras.models import Sequential\n",
    "from keras.layers import Dense, Dropout, AlphaDropout, Activation\n",
    "from keras.optimizers import SGD, Adam, Nadam\n",
    "from keras import initializers"
   ]
  },
  {
   "cell_type": "markdown",
   "metadata": {},
   "source": [
    "## Data\n",
    "Here the data is measurements of energy, flight-time, angles .etc for electrons, protons, pi+ and pi-.\n",
    "\n",
    "There are various python packages that allow ROOT trees to be loaded. Pandas is a powerful python package for managing large datasets in dataframes, that some what resemble ROOT TTree, and has a version that can handle ROOT files."
   ]
  },
  {
   "cell_type": "code",
   "execution_count": 2,
   "metadata": {},
   "outputs": [],
   "source": [
    "df = read_root('Data2Pi.root', key='HSParticles')"
   ]
  },
  {
   "cell_type": "markdown",
   "metadata": {},
   "source": [
    "### What are we dealing with?"
   ]
  },
  {
   "cell_type": "code",
   "execution_count": 3,
   "metadata": {},
   "outputs": [
    {
     "name": "stdout",
     "output_type": "stream",
     "text": [
      "Columns in dataframe:\n",
      "['MissMass2', 'MissMass', 'Topo', 'NPerm', 'NDet', 'Detector', 'Correct', 'ElTime', 'ElEdep', 'ElDeltaE', 'ElPreE', 'ElP', 'ElTh', 'ElPhi', 'ElVz', 'ElTrChi2', 'ElDet', 'PTime', 'PEdep', 'PDeltaE', 'PPreE', 'PP', 'PTh', 'PPhi', 'PVz', 'PTrChi2', 'PDet', 'PipTime', 'PipEdep', 'PipDeltaE', 'PipPreE', 'PipP', 'PipTh', 'PipPhi', 'PipVz', 'PipTrChi2', 'PipDet', 'PimTime', 'PimEdep', 'PimDeltaE', 'PimPreE', 'PimP', 'PimTh', 'PimPhi', 'PimVz', 'PimTrChi2', 'PimDet', 'UID']\n"
     ]
    }
   ],
   "source": [
    "print('Columns in dataframe:')\n",
    "print(df.columns.tolist())"
   ]
  },
  {
   "cell_type": "markdown",
   "metadata": {},
   "source": [
    "We won't use all this information in training. Variables like MissMass2 are saved for later anaylis and variables like 'UID' are useful for training."
   ]
  },
  {
   "cell_type": "markdown",
   "metadata": {},
   "source": [
    "### Preprocessing"
   ]
  },
  {
   "cell_type": "code",
   "execution_count": 4,
   "metadata": {},
   "outputs": [],
   "source": [
    "# remove all NaNs and infs\n",
    "pd.options.mode.use_inf_as_na = True    # make sure infs count as NaN values\n",
    "df = df.fillna(value = 0)"
   ]
  },
  {
   "cell_type": "markdown",
   "metadata": {},
   "source": [
    "A lot more preprocessing could be done based on the infomation we have, such as topologies and where the particles were detected, but this isn't necessary for the purposes of this example."
   ]
  },
  {
   "cell_type": "markdown",
   "metadata": {},
   "source": [
    "### Set the input arrays"
   ]
  },
  {
   "cell_type": "code",
   "execution_count": 5,
   "metadata": {},
   "outputs": [],
   "source": [
    "Nevents = 1e5"
   ]
  },
  {
   "cell_type": "code",
   "execution_count": 6,
   "metadata": {},
   "outputs": [
    {
     "name": "stdout",
     "output_type": "stream",
     "text": [
      "Shape of input data: (200000, 40)\n"
     ]
    }
   ],
   "source": [
    "# drop columns and convery to numpy array\n",
    "dfX = df.drop(['MissMass2', 'MissMass', 'Topo', 'NDet', 'Detector', 'NPerm', 'UID'], axis = 1)\n",
    "# want even number of signals and background\n",
    "dfX_signals = dfX[dfX['Correct']==1]\n",
    "dfX_bkg = dfX[dfX['Correct']==0]\n",
    "# convert to numpy arrays\n",
    "X_signals = dfX_signals.drop('Correct', axis = 1).values[:int(Nevents),:]\n",
    "X_bkg = dfX_bkg.drop('Correct', axis = 1).values[:int(Nevents),:]\n",
    "# merge back together \n",
    "X = np.concatenate([X_signals, X_bkg], axis = 0)\n",
    "print('Shape of input data: {0}'.format(X.shape))"
   ]
  },
  {
   "cell_type": "code",
   "execution_count": 7,
   "metadata": {},
   "outputs": [
    {
     "name": "stdout",
     "output_type": "stream",
     "text": [
      "Shape of input labels: (200000, 2)\n"
     ]
    }
   ],
   "source": [
    "Y = np.concatenate([np.ones(int(Nevents),), np.zeros(int(Nevents),)])\n",
    "Y = keras.utils.to_categorical(Y, num_classes=2)\n",
    "print('Shape of input labels: {0}'.format(Y.shape))"
   ]
  },
  {
   "cell_type": "code",
   "execution_count": 8,
   "metadata": {},
   "outputs": [],
   "source": [
    "# shuffle in manner\n",
    "idx = np.arange(0, X.shape[0], 1)\n",
    "np.random.shuffle(idx)\n",
    "X = X[idx]\n",
    "Y = Y[idx]"
   ]
  },
  {
   "cell_type": "code",
   "execution_count": 9,
   "metadata": {},
   "outputs": [],
   "source": [
    "from sklearn.preprocessing import MinMaxScaler"
   ]
  },
  {
   "cell_type": "code",
   "execution_count": 10,
   "metadata": {},
   "outputs": [],
   "source": [
    "scaler = MinMaxScaler()\n",
    "X = scaler.fit_transform(X)"
   ]
  },
  {
   "cell_type": "code",
   "execution_count": 11,
   "metadata": {},
   "outputs": [
    {
     "name": "stdout",
     "output_type": "stream",
     "text": [
      "Number of training/validation samples: 180000\n",
      "Number of testing samples: 20000\n"
     ]
    }
   ],
   "source": [
    "# split the data\n",
    "cut_idx = int(0.9 * X.shape[0])\n",
    "x_train, x_test = X[:cut_idx,:], X[cut_idx:,:]\n",
    "y_train, y_test = Y[:cut_idx,:], Y[cut_idx:,:]\n",
    "print('Number of training/validation samples: {0}'.format(x_train.shape[0]))\n",
    "print('Number of testing samples: {0}'.format(x_test.shape[0]))"
   ]
  },
  {
   "cell_type": "markdown",
   "metadata": {},
   "source": [
    "## The Model\n",
    "\n",
    "Here is a a variation of a normal neural net called a [self-normalizing neural net](https://arxiv.org/abs/1706.02515). The activation function, type of dropout and initlization change, but the rest of the network stays much the same. This is a form of neural network developed last year that does not requiere BatchNormalization.\n",
    "\n",
    "Here, this type of network is used to simply show some the changes that can be made to network, other than just changing layer sizes."
   ]
  },
  {
   "cell_type": "code",
   "execution_count": 12,
   "metadata": {
    "scrolled": true
   },
   "outputs": [
    {
     "name": "stdout",
     "output_type": "stream",
     "text": [
      "_________________________________________________________________\n",
      "Layer (type)                 Output Shape              Param #   \n",
      "=================================================================\n",
      "dense_1 (Dense)              (None, 1024)              41984     \n",
      "_________________________________________________________________\n",
      "activation_1 (Activation)    (None, 1024)              0         \n",
      "_________________________________________________________________\n",
      "dropout_1 (Dropout)          (None, 1024)              0         \n",
      "_________________________________________________________________\n",
      "dense_2 (Dense)              (None, 2)                 2050      \n",
      "=================================================================\n",
      "Total params: 44,034\n",
      "Trainable params: 44,034\n",
      "Non-trainable params: 0\n",
      "_________________________________________________________________\n"
     ]
    }
   ],
   "source": [
    "model0 = Sequential()\n",
    "\n",
    "model0.add(Dense(1024,input_dim=X.shape[-1]))\n",
    "model0.add(Activation('relu'))\n",
    "model0.add(Dropout(0.2))\n",
    "\n",
    "# output layer\n",
    "model0.add(Dense(2, activation='softmax'))\n",
    "model0.summary()"
   ]
  },
  {
   "cell_type": "code",
   "execution_count": 13,
   "metadata": {
    "scrolled": true
   },
   "outputs": [
    {
     "name": "stdout",
     "output_type": "stream",
     "text": [
      "_________________________________________________________________\n",
      "Layer (type)                 Output Shape              Param #   \n",
      "=================================================================\n",
      "dense_3 (Dense)              (None, 1024)              41984     \n",
      "_________________________________________________________________\n",
      "activation_2 (Activation)    (None, 1024)              0         \n",
      "_________________________________________________________________\n",
      "alpha_dropout_1 (AlphaDropou (None, 1024)              0         \n",
      "_________________________________________________________________\n",
      "dense_4 (Dense)              (None, 512)               524800    \n",
      "_________________________________________________________________\n",
      "activation_3 (Activation)    (None, 512)               0         \n",
      "_________________________________________________________________\n",
      "alpha_dropout_2 (AlphaDropou (None, 512)               0         \n",
      "_________________________________________________________________\n",
      "dense_5 (Dense)              (None, 2)                 1026      \n",
      "=================================================================\n",
      "Total params: 567,810\n",
      "Trainable params: 567,810\n",
      "Non-trainable params: 0\n",
      "_________________________________________________________________\n"
     ]
    }
   ],
   "source": [
    "model1 = Sequential()\n",
    "\n",
    "model1.add(Dense(1024,input_dim=X.shape[-1]))\n",
    "model1.add(Activation('relu'))\n",
    "model1.add(AlphaDropout(0.2))\n",
    "\n",
    "model1.add(Dense(512))\n",
    "model1.add(Activation('relu'))\n",
    "model1.add(AlphaDropout(0.2))\n",
    "\n",
    "# output layer\n",
    "model1.add(Dense(2, activation='softmax'))\n",
    "model1.summary()"
   ]
  },
  {
   "cell_type": "markdown",
   "metadata": {},
   "source": [
    "Note the difference in the number of parameters in each model. This will be reflected in the training time."
   ]
  },
  {
   "cell_type": "markdown",
   "metadata": {},
   "source": [
    "### Compile"
   ]
  },
  {
   "cell_type": "code",
   "execution_count": 14,
   "metadata": {},
   "outputs": [],
   "source": [
    "model0.compile(loss='categorical_crossentropy', \n",
    "              optimizer= SGD(lr=0.01, momentum=0.9, nesterov=True), metrics=['accuracy',])\n",
    "model1.compile(loss='categorical_crossentropy', \n",
    "              optimizer= SGD(lr=0.01, momentum=0.9, nesterov=True), metrics=['accuracy',])\n",
    "#SGD(lr=0.01, momentum=0.9, nesterov=True)"
   ]
  },
  {
   "cell_type": "markdown",
   "metadata": {},
   "source": [
    "### Train"
   ]
  },
  {
   "cell_type": "code",
   "execution_count": 15,
   "metadata": {},
   "outputs": [],
   "source": [
    "epochs = 10\n",
    "batch_size = 32"
   ]
  },
  {
   "cell_type": "code",
   "execution_count": 16,
   "metadata": {
    "scrolled": true
   },
   "outputs": [
    {
     "name": "stdout",
     "output_type": "stream",
     "text": [
      "Train on 162000 samples, validate on 18000 samples\n",
      "Epoch 1/10\n",
      "162000/162000 [==============================] - 9s 59us/step - loss: 0.3230 - acc: 0.8662 - val_loss: 0.2966 - val_acc: 0.8769\n",
      "Epoch 2/10\n",
      "162000/162000 [==============================] - 9s 55us/step - loss: 0.2905 - acc: 0.8813 - val_loss: 0.2881 - val_acc: 0.8858\n",
      "Epoch 3/10\n",
      "162000/162000 [==============================] - 9s 53us/step - loss: 0.2822 - acc: 0.8862 - val_loss: 0.2731 - val_acc: 0.8904\n",
      "Epoch 4/10\n",
      "162000/162000 [==============================] - 9s 54us/step - loss: 0.2768 - acc: 0.8884 - val_loss: 0.2767 - val_acc: 0.8775\n",
      "Epoch 5/10\n",
      "162000/162000 [==============================] - 9s 54us/step - loss: 0.2728 - acc: 0.8898 - val_loss: 0.2678 - val_acc: 0.8883\n",
      "Epoch 6/10\n",
      "162000/162000 [==============================] - 9s 55us/step - loss: 0.2698 - acc: 0.8911 - val_loss: 0.2654 - val_acc: 0.8939\n",
      "Epoch 7/10\n",
      "162000/162000 [==============================] - 9s 55us/step - loss: 0.2675 - acc: 0.8924 - val_loss: 0.2587 - val_acc: 0.8940\n",
      "Epoch 8/10\n",
      "162000/162000 [==============================] - 9s 54us/step - loss: 0.2654 - acc: 0.8925 - val_loss: 0.2615 - val_acc: 0.8961\n",
      "Epoch 9/10\n",
      "162000/162000 [==============================] - 8s 52us/step - loss: 0.2645 - acc: 0.8930 - val_loss: 0.2618 - val_acc: 0.8941\n",
      "Epoch 10/10\n",
      "162000/162000 [==============================] - 9s 53us/step - loss: 0.2628 - acc: 0.8934 - val_loss: 0.2637 - val_acc: 0.8937\n",
      "Test loss: 0.2556602127432823\n",
      "Test accuracy: 0.89575\n"
     ]
    },
    {
     "name": "stderr",
     "output_type": "stream",
     "text": [
      "2018-07-11 17:26:29.216458: I tensorflow/core/platform/cpu_feature_guard.cc:140] Your CPU supports instructions that this TensorFlow binary was not compiled to use: AVX2 FMA\n"
     ]
    }
   ],
   "source": [
    "history0 = model0.fit(x_train, y_train,\n",
    "                    batch_size=batch_size,\n",
    "                    epochs=epochs,\n",
    "                    verbose=1,\n",
    "                    validation_split=0.1)\n",
    "score = model0.evaluate(x_test, y_test, verbose=0)\n",
    "print('Test loss:', score[0])\n",
    "\n",
    "print('Test accuracy:', score[1])"
   ]
  },
  {
   "cell_type": "code",
   "execution_count": 17,
   "metadata": {
    "scrolled": true
   },
   "outputs": [
    {
     "name": "stdout",
     "output_type": "stream",
     "text": [
      "Train on 162000 samples, validate on 18000 samples\n",
      "Epoch 1/10\n",
      "162000/162000 [==============================] - 33s 201us/step - loss: 0.6284 - acc: 0.6889 - val_loss: 0.3612 - val_acc: 0.8526\n",
      "Epoch 2/10\n",
      "162000/162000 [==============================] - 32s 197us/step - loss: 0.4632 - acc: 0.7987 - val_loss: 0.3745 - val_acc: 0.8618\n",
      "Epoch 3/10\n",
      "162000/162000 [==============================] - 32s 198us/step - loss: 0.4302 - acc: 0.8155 - val_loss: 0.3908 - val_acc: 0.8608\n",
      "Epoch 4/10\n",
      "162000/162000 [==============================] - 32s 199us/step - loss: 0.4206 - acc: 0.8209 - val_loss: 0.3813 - val_acc: 0.8633\n",
      "Epoch 5/10\n",
      "162000/162000 [==============================] - 32s 197us/step - loss: 0.4141 - acc: 0.8230 - val_loss: 0.3606 - val_acc: 0.8644\n",
      "Epoch 6/10\n",
      "162000/162000 [==============================] - 32s 195us/step - loss: 0.4052 - acc: 0.8284 - val_loss: 0.3756 - val_acc: 0.8648\n",
      "Epoch 7/10\n",
      "162000/162000 [==============================] - 32s 199us/step - loss: 0.4026 - acc: 0.8282 - val_loss: 0.3499 - val_acc: 0.8651\n",
      "Epoch 8/10\n",
      "162000/162000 [==============================] - 32s 198us/step - loss: 0.4013 - acc: 0.8295 - val_loss: 0.4317 - val_acc: 0.8677\n",
      "Epoch 9/10\n",
      "162000/162000 [==============================] - 32s 197us/step - loss: 0.3976 - acc: 0.8321 - val_loss: 0.3838 - val_acc: 0.8666\n",
      "Epoch 10/10\n",
      "162000/162000 [==============================] - 32s 200us/step - loss: 0.3964 - acc: 0.8323 - val_loss: 0.3875 - val_acc: 0.8653\n",
      "Test loss: 0.37444344485998154\n",
      "Test accuracy: 0.86775\n"
     ]
    }
   ],
   "source": [
    "history1 = model1.fit(x_train, y_train,\n",
    "                    batch_size=batch_size,\n",
    "                    epochs=epochs,\n",
    "                    verbose=1,\n",
    "                    validation_split=0.1)\n",
    "score = model1.evaluate(x_test, y_test, verbose=0)\n",
    "print('Test loss:', score[0])\n",
    "\n",
    "print('Test accuracy:', score[1])"
   ]
  },
  {
   "cell_type": "markdown",
   "metadata": {},
   "source": [
    "### Loss"
   ]
  },
  {
   "cell_type": "code",
   "execution_count": 18,
   "metadata": {},
   "outputs": [
    {
     "data": {
      "image/png": "[encoded data removed]",
      "text/plain": [
       "<Figure size 432x288 with 1 Axes>"
      ]
     },
     "metadata": {},
     "output_type": "display_data"
    }
   ],
   "source": [
    "fig, ax = plt.subplots(1,1)\n",
    "ax.plot(history0.history['loss'], label = 'loss - model 0')\n",
    "ax.plot(history0.history['val_loss'], label = 'val loss - model 0')\n",
    "ax.plot(history1.history['loss'], label = 'loss - model 1')\n",
    "ax.plot(history1.history['val_loss'], label = 'val loss - model 1')\n",
    "ax.set_xlabel('Epoch')\n",
    "ax.set_ylabel('Loss')\n",
    "plt.legend()\n",
    "plt.show()"
   ]
  },
  {
   "cell_type": "markdown",
   "metadata": {},
   "source": [
    "## Results"
   ]
  },
  {
   "cell_type": "code",
   "execution_count": 19,
   "metadata": {},
   "outputs": [],
   "source": [
    "y_preds0 = model0.predict(x_test)\n",
    "y_preds1 = model1.predict(x_test)"
   ]
  },
  {
   "cell_type": "code",
   "execution_count": 20,
   "metadata": {},
   "outputs": [],
   "source": [
    "from sklearn import metrics\n",
    "import itertools"
   ]
  },
  {
   "cell_type": "markdown",
   "metadata": {},
   "source": [
    "### ROC curve"
   ]
  },
  {
   "cell_type": "code",
   "execution_count": 21,
   "metadata": {},
   "outputs": [],
   "source": [
    "fp0, tp0, _ = metrics.roc_curve(y_test[:,1], y_preds0[:,1])\n",
    "fp1, tp1, _ = metrics.roc_curve(y_test[:,1], y_preds1[:,1])"
   ]
  },
  {
   "cell_type": "code",
   "execution_count": 25,
   "metadata": {},
   "outputs": [
    {
     "data": {
      "image/png": "[encoded data removed]",
      "text/plain": [
       "<Figure size 432x288 with 1 Axes>"
      ]
     },
     "metadata": {},
     "output_type": "display_data"
    }
   ],
   "source": [
    "fig, ax = plt.subplots(1,1)\n",
    "ax.plot(fp0, tp0, label = 'model 0')\n",
    "ax.plot(fp1, tp1, label = 'model 1')\n",
    "ax.set_xlabel('False postive')\n",
    "ax.set_ylabel('True positive')\n",
    "plt.legend()\n",
    "plt.show()"
   ]
  },
  {
   "cell_type": "markdown",
   "metadata": {},
   "source": [
    "### Confusion matrix"
   ]
  },
  {
   "cell_type": "code",
   "execution_count": 23,
   "metadata": {},
   "outputs": [],
   "source": [
    "def plot_confusion_matrix(cm, classes,\n",
    "                          normalize=False,\n",
    "                          title='Confusion matrix',\n",
    "                          cmap=plt.cm.Blues):\n",
    "    \"\"\"\n",
    "    This function prints and plots the confusion matrix.\n",
    "    Normalization can be applied by setting `normalize=True`.\n",
    "    Source: http://scikit-learn.org/stable/auto_examples/model_selection/plot_confusion_matrix.html\n",
    "    \"\"\"\n",
    "    if normalize:\n",
    "        cm = cm.astype('float') / cm.sum(axis=1)[:, np.newaxis]\n",
    "        print(\"Normalized confusion matrix\")\n",
    "    else:\n",
    "        print('Confusion matrix, without normalization')\n",
    "\n",
    "    print(cm)\n",
    "\n",
    "    plt.imshow(cm, interpolation='nearest', cmap=cmap)\n",
    "    plt.title(title)\n",
    "    plt.colorbar()\n",
    "    tick_marks = np.arange(len(classes))\n",
    "    plt.xticks(tick_marks, classes, rotation=45)\n",
    "    plt.yticks(tick_marks, classes)\n",
    "\n",
    "    fmt = '.2f' if normalize else 'd'\n",
    "    thresh = cm.max() / 2.\n",
    "    for i, j in itertools.product(range(cm.shape[0]), range(cm.shape[1])):\n",
    "        plt.text(j, i, format(cm[i, j], fmt),\n",
    "                 horizontalalignment=\"center\",\n",
    "                 color=\"white\" if cm[i, j] > thresh else \"black\")\n",
    "\n",
    "    plt.tight_layout()\n",
    "    plt.ylabel('True label')\n",
    "    plt.xlabel('Predicted label')"
   ]
  },
  {
   "cell_type": "code",
   "execution_count": 26,
   "metadata": {},
   "outputs": [],
   "source": [
    "# cm needs predicted class\n",
    "y_preds_rounded = np.argmax(y_preds0, axis =1)"
   ]
  },
  {
   "cell_type": "code",
   "execution_count": 27,
   "metadata": {},
   "outputs": [],
   "source": [
    "cm = metrics.confusion_matrix(y_test[:,1], y_preds_rounded)"
   ]
  },
  {
   "cell_type": "code",
   "execution_count": 28,
   "metadata": {},
   "outputs": [
    {
     "name": "stdout",
     "output_type": "stream",
     "text": [
      "Normalized confusion matrix\n",
      "[[0.82112112 0.17887888]\n",
      " [0.02977023 0.97022977]]\n"
     ]
    },
    {
     "data": {
      "image/png": "[encoded data removed]",
      "text/plain": [
       "<Figure size 432x288 with 2 Axes>"
      ]
     },
     "metadata": {},
     "output_type": "display_data"
    }
   ],
   "source": [
    "plot_confusion_matrix(cm, ['background', 'signal'], normalize=True)"
   ]
  }
 ],
 "metadata": {
  "kernelspec": {
   "display_name": "Python (ML)",
   "language": "python",
   "name": "ml"
  },
  "language_info": {
   "codemirror_mode": {
    "name": "ipython",
    "version": 2
   },
   "file_extension": ".py",
   "mimetype": "text/x-python",
   "name": "python",
   "nbconvert_exporter": "python",
   "pygments_lexer": "ipython2",
   "version": "2.7.5"
  }
 },
 "nbformat": 4,
 "nbformat_minor": 2
}
