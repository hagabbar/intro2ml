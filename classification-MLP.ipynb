{
 "cells": [
  {
   "cell_type": "markdown",
   "metadata": {},
   "source": [
    "# Classification - MLP"
   ]
  },
  {
   "cell_type": "code",
   "execution_count": 1,
   "metadata": {},
   "outputs": [
    {
     "name": "stderr",
     "output_type": "stream",
     "text": [
      "Using TensorFlow backend.\n"
     ]
    }
   ],
   "source": [
    "# imports\n",
    "from __future__ import print_function\n",
    "\n",
    "import keras\n",
    "from keras.datasets import mnist\n",
    "from keras.models import Sequential\n",
    "from keras.layers import Dense, Dropout\n",
    "from keras.optimizers import Adam\n",
    "\n",
    "import matplotlib.pyplot as plt"
   ]
  },
  {
   "cell_type": "markdown",
   "metadata": {},
   "source": [
    "## Dataset\n",
    "\n",
    "MNIST is a handwrriten digit database with a training set of 60,000 examples and a test se of 10,000 examples. The images are all 28x28 and greyscale.\n",
    "\n",
    "It is available [here](http://yann.lecun.com/exdb/mnist/), but is included in Keras and will automatically download."
   ]
  },
  {
   "cell_type": "code",
   "execution_count": 2,
   "metadata": {
    "scrolled": false
   },
   "outputs": [],
   "source": [
    "# load data\n",
    "(x_train, y_train), (x_test, y_test) = mnist.load_data()"
   ]
  },
  {
   "cell_type": "code",
   "execution_count": 3,
   "metadata": {
    "scrolled": true
   },
   "outputs": [
    {
     "data": {
      "image/png": "[encoded data removed]",
      "text/plain": [
       "<Figure size 432x288 with 9 Axes>"
      ]
     },
     "metadata": {},
     "output_type": "display_data"
    }
   ],
   "source": [
    "fig, axs = plt.subplots(3,3)\n",
    "axs = axs.ravel()\n",
    "for i in range(len(axs)):\n",
    "    axs[i].imshow(x_train[i].reshape(28,28), cmap='gray')\n",
    "    axs[i].set_xticks([])\n",
    "    axs[i].set_yticks([])"
   ]
  },
  {
   "cell_type": "markdown",
   "metadata": {},
   "source": [
    "Here, the 'x' arrays are the images and the 'y' arrays are the labels"
   ]
  },
  {
   "cell_type": "markdown",
   "metadata": {},
   "source": [
    "### General parameters\n",
    "\n",
    "We need to define some general parameters for networks we're going to use"
   ]
  },
  {
   "cell_type": "code",
   "execution_count": 4,
   "metadata": {},
   "outputs": [],
   "source": [
    "batch_size = 128    # number of images passed each iteration\n",
    "num_classes = 10    # digits 0 to 9\n",
    "epochs = 20         # number of full passes of the dataset"
   ]
  },
  {
   "cell_type": "markdown",
   "metadata": {},
   "source": [
    "## MLP\n",
    "\n",
    "This example uses a simple deep neural net (more than 1 layer)"
   ]
  },
  {
   "cell_type": "markdown",
   "metadata": {},
   "source": [
    "For an MLP the data needs to be parsed as 1D array, rather than a 2D image. \n",
    "\n",
    "So, the data is reshaped according to the number of samples (60,000 or 10,000) and the size of the image 784 (28x28).\n",
    "\n",
    "The data is then normalized (0,255) to (0,1)"
   ]
  },
  {
   "cell_type": "code",
   "execution_count": 5,
   "metadata": {
    "scrolled": false
   },
   "outputs": [
    {
     "name": "stdout",
     "output_type": "stream",
     "text": [
      "60000 train samples\n",
      "10000 test samples\n"
     ]
    }
   ],
   "source": [
    "# reshape data\n",
    "x_train = x_train.reshape(60000, 784)\n",
    "x_test = x_test.reshape(10000, 784)\n",
    "x_train = x_train.astype('float32')\n",
    "x_test = x_test.astype('float32')\n",
    "# normalize data\n",
    "x_train /= 255\n",
    "x_test /= 255\n",
    "print(x_train.shape[0], 'train samples')\n",
    "print(x_test.shape[0], 'test samples')"
   ]
  },
  {
   "cell_type": "markdown",
   "metadata": {},
   "source": [
    "As is the content of the labels vectors looks like this:\n",
    "```\n",
    "array([7, 2, 1, ..., 4, 5, 6], dtype=uint8)\n",
    "```\n",
    "The NN expects them labels as binary class matrix instead"
   ]
  },
  {
   "cell_type": "code",
   "execution_count": 6,
   "metadata": {},
   "outputs": [],
   "source": [
    "# convert class vectors to binary class matrices\n",
    "y_train = keras.utils.to_categorical(y_train, num_classes)\n",
    "y_test = keras.utils.to_categorical(y_test, num_classes)"
   ]
  },
  {
   "cell_type": "markdown",
   "metadata": {},
   "source": [
    "Now the label for each image looks like this:\n",
    "```\n",
    "array([0., 0., 0., 0., 0., 0., 0., 1., 0., 0.], dtype=float32)\n",
    "```\n"
   ]
  },
  {
   "cell_type": "markdown",
   "metadata": {},
   "source": [
    "### The Model"
   ]
  },
  {
   "cell_type": "code",
   "execution_count": 7,
   "metadata": {},
   "outputs": [
    {
     "name": "stdout",
     "output_type": "stream",
     "text": [
      "_________________________________________________________________\n",
      "Layer (type)                 Output Shape              Param #   \n",
      "=================================================================\n",
      "dense_1 (Dense)              (None, 512)               401920    \n",
      "_________________________________________________________________\n",
      "dropout_1 (Dropout)          (None, 512)               0         \n",
      "_________________________________________________________________\n",
      "dense_2 (Dense)              (None, 512)               262656    \n",
      "_________________________________________________________________\n",
      "dropout_2 (Dropout)          (None, 512)               0         \n",
      "_________________________________________________________________\n",
      "dense_3 (Dense)              (None, 10)                5130      \n",
      "=================================================================\n",
      "Total params: 669,706\n",
      "Trainable params: 669,706\n",
      "Non-trainable params: 0\n",
      "_________________________________________________________________\n"
     ]
    }
   ],
   "source": [
    "model = Sequential()    # define the type of keras model\n",
    "# add first layer with dropout and relu activation\n",
    "model.add(Dense(512, activation='relu', input_shape=(784,)))\n",
    "model.add(Dropout(0.2))\n",
    "# add another layer\n",
    "model.add(Dense(512, activation='relu'))\n",
    "model.add(Dropout(0.2))\n",
    "# add the output layer with softmax actiavtion for classication\n",
    "model.add(Dense(num_classes, activation='softmax'))\n",
    "# print a summary\n",
    "model.summary()"
   ]
  },
  {
   "cell_type": "code",
   "execution_count": 8,
   "metadata": {},
   "outputs": [],
   "source": [
    "# compile the model\n",
    "model.compile(loss='categorical_crossentropy',\n",
    "              optimizer=Adam(),\n",
    "              metrics=['accuracy'])"
   ]
  },
  {
   "cell_type": "markdown",
   "metadata": {},
   "source": [
    "### The Training"
   ]
  },
  {
   "cell_type": "code",
   "execution_count": 9,
   "metadata": {
    "scrolled": true
   },
   "outputs": [
    {
     "name": "stdout",
     "output_type": "stream",
     "text": [
      "Train on 60000 samples, validate on 10000 samples\n",
      "Epoch 1/20\n",
      "60000/60000 [==============================] - 12s 198us/step - loss: 0.2460 - acc: 0.9259 - val_loss: 0.1047 - val_acc: 0.9686\n",
      "Epoch 2/20\n",
      "60000/60000 [==============================] - 11s 190us/step - loss: 0.1022 - acc: 0.9682 - val_loss: 0.0749 - val_acc: 0.9760\n",
      "Epoch 3/20\n",
      "60000/60000 [==============================] - 11s 187us/step - loss: 0.0706 - acc: 0.9775 - val_loss: 0.0695 - val_acc: 0.9776\n",
      "Epoch 4/20\n",
      "60000/60000 [==============================] - 11s 186us/step - loss: 0.0552 - acc: 0.9821 - val_loss: 0.0623 - val_acc: 0.9817\n",
      "Epoch 5/20\n",
      "60000/60000 [==============================] - 11s 188us/step - loss: 0.0472 - acc: 0.9851 - val_loss: 0.0677 - val_acc: 0.9806\n",
      "Epoch 6/20\n",
      "60000/60000 [==============================] - 14s 227us/step - loss: 0.0370 - acc: 0.9878 - val_loss: 0.0671 - val_acc: 0.9816\n",
      "Epoch 7/20\n",
      "60000/60000 [==============================] - 13s 219us/step - loss: 0.0341 - acc: 0.9894 - val_loss: 0.0661 - val_acc: 0.9809\n",
      "Epoch 8/20\n",
      "60000/60000 [==============================] - 15s 242us/step - loss: 0.0312 - acc: 0.9901 - val_loss: 0.0654 - val_acc: 0.9817\n",
      "Epoch 9/20\n",
      "60000/60000 [==============================] - 14s 231us/step - loss: 0.0294 - acc: 0.9903 - val_loss: 0.0614 - val_acc: 0.9829\n",
      "Epoch 10/20\n",
      "60000/60000 [==============================] - 14s 225us/step - loss: 0.0237 - acc: 0.9920 - val_loss: 0.0820 - val_acc: 0.9805\n",
      "Epoch 11/20\n",
      "60000/60000 [==============================] - 14s 226us/step - loss: 0.0238 - acc: 0.9920 - val_loss: 0.0680 - val_acc: 0.9837\n",
      "Epoch 12/20\n",
      "60000/60000 [==============================] - 14s 229us/step - loss: 0.0198 - acc: 0.9933 - val_loss: 0.0762 - val_acc: 0.9819\n",
      "Epoch 13/20\n",
      "60000/60000 [==============================] - 14s 225us/step - loss: 0.0214 - acc: 0.9927 - val_loss: 0.0775 - val_acc: 0.9802\n",
      "Epoch 14/20\n",
      "60000/60000 [==============================] - 14s 233us/step - loss: 0.0204 - acc: 0.9933 - val_loss: 0.0725 - val_acc: 0.9823\n",
      "Epoch 15/20\n",
      "60000/60000 [==============================] - 14s 232us/step - loss: 0.0174 - acc: 0.9943 - val_loss: 0.0744 - val_acc: 0.9809\n",
      "Epoch 16/20\n",
      "60000/60000 [==============================] - 13s 224us/step - loss: 0.0156 - acc: 0.9947 - val_loss: 0.0752 - val_acc: 0.9823\n",
      "Epoch 17/20\n",
      "60000/60000 [==============================] - 12s 201us/step - loss: 0.0183 - acc: 0.9939 - val_loss: 0.0673 - val_acc: 0.9859\n",
      "Epoch 18/20\n",
      "60000/60000 [==============================] - 14s 227us/step - loss: 0.0168 - acc: 0.9944 - val_loss: 0.0697 - val_acc: 0.9851\n",
      "Epoch 19/20\n",
      "60000/60000 [==============================] - 14s 226us/step - loss: 0.0152 - acc: 0.9948 - val_loss: 0.0768 - val_acc: 0.9841\n",
      "Epoch 20/20\n",
      "60000/60000 [==============================] - 14s 226us/step - loss: 0.0152 - acc: 0.9953 - val_loss: 0.0765 - val_acc: 0.9838\n",
      "Test loss: 0.07650775185095608\n",
      "Test accuracy: 0.9838\n"
     ]
    }
   ],
   "source": [
    "history = model.fit(x_train, y_train,\n",
    "                    batch_size=batch_size,\n",
    "                    epochs=epochs,\n",
    "                    verbose=1,\n",
    "                    validation_data=(x_test, y_test))\n",
    "score = model.evaluate(x_test, y_test, verbose=0)\n",
    "print('Test loss:', score[0])\n",
    "print('Test accuracy:', score[1])"
   ]
  }
 ],
 "metadata": {
  "kernelspec": {
   "display_name": "Python (ML)",
   "language": "python",
   "name": "ml"
  },
  "language_info": {
   "codemirror_mode": {
    "name": "ipython",
    "version": 2
   },
   "file_extension": ".py",
   "mimetype": "text/x-python",
   "name": "python",
   "nbconvert_exporter": "python",
   "pygments_lexer": "ipython2",
   "version": "2.7.5"
  }
 },
 "nbformat": 4,
 "nbformat_minor": 2
}
